{
 "cells": [
  {
   "cell_type": "code",
   "execution_count": 55,
   "metadata": {},
   "outputs": [],
   "source": [
    "import pandas as pd\n",
    "import numpy as np\n",
    "import warnings\n",
    "from utils import utils_gn, utils_sevsn, utils_noah, utils_models\n",
    "from sklearn.svm import NuSVR\n",
    "import importlib\n",
    "importlib.reload(utils_gn)\n",
    "importlib.reload(utils_sevsn)\n",
    "importlib.reload(utils_noah)\n",
    "importlib.reload(utils_models)\n",
    "warnings.filterwarnings('ignore')"
   ]
  },
  {
   "cell_type": "code",
   "execution_count": 56,
   "metadata": {},
   "outputs": [
    {
     "data": {
      "text/html": [
       "<div>\n",
       "<style scoped>\n",
       "    .dataframe tbody tr th:only-of-type {\n",
       "        vertical-align: middle;\n",
       "    }\n",
       "\n",
       "    .dataframe tbody tr th {\n",
       "        vertical-align: top;\n",
       "    }\n",
       "\n",
       "    .dataframe thead th {\n",
       "        text-align: right;\n",
       "    }\n",
       "</style>\n",
       "<table border=\"1\" class=\"dataframe\">\n",
       "  <thead>\n",
       "    <tr style=\"text-align: right;\">\n",
       "      <th></th>\n",
       "      <th>mean_Q_100_10</th>\n",
       "      <th>log_mean_Q_100_10</th>\n",
       "      <th>var_Q_100_10</th>\n",
       "      <th>log_var_Q_100_10</th>\n",
       "      <th>min_Q_100_10</th>\n",
       "      <th>log_min_Q_100_10</th>\n",
       "      <th>skew_Q_100_10</th>\n",
       "      <th>log_skew_Q_100_10</th>\n",
       "      <th>kurt_Q_100_10</th>\n",
       "      <th>log_kurt_Q_100_10</th>\n",
       "      <th>...</th>\n",
       "      <th>dVdQpeak_maxmag_di_y_100m0</th>\n",
       "      <th>dVdQpeak_maxmag_di_y_diff</th>\n",
       "      <th>dVdQpeak_maxarea_di_y_0</th>\n",
       "      <th>dVdQpeak_maxarea_di_y_50</th>\n",
       "      <th>dVdQpeak_maxarea_di_y_100</th>\n",
       "      <th>dVdQpeak_maxarea_di_y_100m0</th>\n",
       "      <th>dVdQpeak_maxarea_di_y_diff</th>\n",
       "      <th>dSOHdCycCyc1</th>\n",
       "      <th>dSOHdCycCyc100</th>\n",
       "      <th>cycle_life</th>\n",
       "    </tr>\n",
       "  </thead>\n",
       "  <tbody>\n",
       "    <tr>\n",
       "      <th>b1c0</th>\n",
       "      <td>-0.002873</td>\n",
       "      <td>-2.541602</td>\n",
       "      <td>0.000010</td>\n",
       "      <td>-5.014861</td>\n",
       "      <td>-0.008460</td>\n",
       "      <td>-2.072648</td>\n",
       "      <td>-0.532058</td>\n",
       "      <td>-0.274041</td>\n",
       "      <td>1.651688</td>\n",
       "      <td>0.217928</td>\n",
       "      <td>...</td>\n",
       "      <td>-0.005282</td>\n",
       "      <td>0.003144</td>\n",
       "      <td>-79.299389</td>\n",
       "      <td>-75.009448</td>\n",
       "      <td>-68.133388</td>\n",
       "      <td>11.166000</td>\n",
       "      <td>2.586119</td>\n",
       "      <td>0.000388</td>\n",
       "      <td>-0.000031</td>\n",
       "      <td>1851.0</td>\n",
       "    </tr>\n",
       "    <tr>\n",
       "      <th>b1c1</th>\n",
       "      <td>-0.004100</td>\n",
       "      <td>-2.387257</td>\n",
       "      <td>0.000010</td>\n",
       "      <td>-5.013960</td>\n",
       "      <td>-0.011004</td>\n",
       "      <td>-1.958457</td>\n",
       "      <td>-0.429375</td>\n",
       "      <td>-0.367163</td>\n",
       "      <td>1.970884</td>\n",
       "      <td>0.294661</td>\n",
       "      <td>...</td>\n",
       "      <td>0.001686</td>\n",
       "      <td>0.000501</td>\n",
       "      <td>-75.511329</td>\n",
       "      <td>-73.411862</td>\n",
       "      <td>-60.405989</td>\n",
       "      <td>15.105340</td>\n",
       "      <td>10.906407</td>\n",
       "      <td>0.000396</td>\n",
       "      <td>-0.000019</td>\n",
       "      <td>2159.0</td>\n",
       "    </tr>\n",
       "    <tr>\n",
       "      <th>b1c2</th>\n",
       "      <td>-0.004487</td>\n",
       "      <td>-2.348070</td>\n",
       "      <td>0.000018</td>\n",
       "      <td>-4.737000</td>\n",
       "      <td>-0.017216</td>\n",
       "      <td>-1.764058</td>\n",
       "      <td>-1.080194</td>\n",
       "      <td>0.033502</td>\n",
       "      <td>3.348637</td>\n",
       "      <td>0.524868</td>\n",
       "      <td>...</td>\n",
       "      <td>-0.005399</td>\n",
       "      <td>0.004043</td>\n",
       "      <td>-76.601709</td>\n",
       "      <td>-73.345940</td>\n",
       "      <td>-65.414446</td>\n",
       "      <td>11.187263</td>\n",
       "      <td>4.675725</td>\n",
       "      <td>0.000312</td>\n",
       "      <td>-0.000013</td>\n",
       "      <td>2236.0</td>\n",
       "    </tr>\n",
       "    <tr>\n",
       "      <th>b1c3</th>\n",
       "      <td>-0.007456</td>\n",
       "      <td>-2.127507</td>\n",
       "      <td>0.000036</td>\n",
       "      <td>-4.442613</td>\n",
       "      <td>-0.018961</td>\n",
       "      <td>-1.722149</td>\n",
       "      <td>-0.439050</td>\n",
       "      <td>-0.357486</td>\n",
       "      <td>1.904584</td>\n",
       "      <td>0.279800</td>\n",
       "      <td>...</td>\n",
       "      <td>-0.002219</td>\n",
       "      <td>0.012165</td>\n",
       "      <td>-80.446334</td>\n",
       "      <td>-67.731448</td>\n",
       "      <td>-55.749502</td>\n",
       "      <td>24.696832</td>\n",
       "      <td>-0.732940</td>\n",
       "      <td>0.000353</td>\n",
       "      <td>-0.000013</td>\n",
       "      <td>1433.0</td>\n",
       "    </tr>\n",
       "    <tr>\n",
       "      <th>b1c4</th>\n",
       "      <td>-0.005750</td>\n",
       "      <td>-2.240332</td>\n",
       "      <td>0.000023</td>\n",
       "      <td>-4.647744</td>\n",
       "      <td>-0.013958</td>\n",
       "      <td>-1.855177</td>\n",
       "      <td>-0.362548</td>\n",
       "      <td>-0.440634</td>\n",
       "      <td>1.666169</td>\n",
       "      <td>0.221719</td>\n",
       "      <td>...</td>\n",
       "      <td>0.002736</td>\n",
       "      <td>0.001597</td>\n",
       "      <td>-75.575598</td>\n",
       "      <td>-65.232594</td>\n",
       "      <td>-55.730088</td>\n",
       "      <td>19.845510</td>\n",
       "      <td>-0.840498</td>\n",
       "      <td>0.000347</td>\n",
       "      <td>-0.000030</td>\n",
       "      <td>1708.0</td>\n",
       "    </tr>\n",
       "  </tbody>\n",
       "</table>\n",
       "<p>5 rows × 245 columns</p>\n",
       "</div>"
      ],
      "text/plain": [
       "      mean_Q_100_10  log_mean_Q_100_10  var_Q_100_10  log_var_Q_100_10  \\\n",
       "b1c0      -0.002873          -2.541602      0.000010         -5.014861   \n",
       "b1c1      -0.004100          -2.387257      0.000010         -5.013960   \n",
       "b1c2      -0.004487          -2.348070      0.000018         -4.737000   \n",
       "b1c3      -0.007456          -2.127507      0.000036         -4.442613   \n",
       "b1c4      -0.005750          -2.240332      0.000023         -4.647744   \n",
       "\n",
       "      min_Q_100_10  log_min_Q_100_10  skew_Q_100_10  log_skew_Q_100_10  \\\n",
       "b1c0     -0.008460         -2.072648      -0.532058          -0.274041   \n",
       "b1c1     -0.011004         -1.958457      -0.429375          -0.367163   \n",
       "b1c2     -0.017216         -1.764058      -1.080194           0.033502   \n",
       "b1c3     -0.018961         -1.722149      -0.439050          -0.357486   \n",
       "b1c4     -0.013958         -1.855177      -0.362548          -0.440634   \n",
       "\n",
       "      kurt_Q_100_10  log_kurt_Q_100_10  ...  dVdQpeak_maxmag_di_y_100m0  \\\n",
       "b1c0       1.651688           0.217928  ...                   -0.005282   \n",
       "b1c1       1.970884           0.294661  ...                    0.001686   \n",
       "b1c2       3.348637           0.524868  ...                   -0.005399   \n",
       "b1c3       1.904584           0.279800  ...                   -0.002219   \n",
       "b1c4       1.666169           0.221719  ...                    0.002736   \n",
       "\n",
       "      dVdQpeak_maxmag_di_y_diff  dVdQpeak_maxarea_di_y_0  \\\n",
       "b1c0                   0.003144               -79.299389   \n",
       "b1c1                   0.000501               -75.511329   \n",
       "b1c2                   0.004043               -76.601709   \n",
       "b1c3                   0.012165               -80.446334   \n",
       "b1c4                   0.001597               -75.575598   \n",
       "\n",
       "      dVdQpeak_maxarea_di_y_50  dVdQpeak_maxarea_di_y_100  \\\n",
       "b1c0                -75.009448                 -68.133388   \n",
       "b1c1                -73.411862                 -60.405989   \n",
       "b1c2                -73.345940                 -65.414446   \n",
       "b1c3                -67.731448                 -55.749502   \n",
       "b1c4                -65.232594                 -55.730088   \n",
       "\n",
       "      dVdQpeak_maxarea_di_y_100m0  dVdQpeak_maxarea_di_y_diff  dSOHdCycCyc1  \\\n",
       "b1c0                    11.166000                    2.586119      0.000388   \n",
       "b1c1                    15.105340                   10.906407      0.000396   \n",
       "b1c2                    11.187263                    4.675725      0.000312   \n",
       "b1c3                    24.696832                   -0.732940      0.000353   \n",
       "b1c4                    19.845510                   -0.840498      0.000347   \n",
       "\n",
       "      dSOHdCycCyc100  cycle_life  \n",
       "b1c0       -0.000031      1851.0  \n",
       "b1c1       -0.000019      2159.0  \n",
       "b1c2       -0.000013      2236.0  \n",
       "b1c3       -0.000013      1433.0  \n",
       "b1c4       -0.000030      1708.0  \n",
       "\n",
       "[5 rows x 245 columns]"
      ]
     },
     "execution_count": 56,
     "metadata": {},
     "output_type": "execute_result"
    }
   ],
   "source": [
    "# read the data\n",
    "df_raw = (utils_gn.read_data('severson_all.pkl')).drop('cycle_life', axis=1).join(utils_gn.read_data('noah_all.pkl'))\n",
    "df = df_raw.copy()\n",
    "df.head()"
   ]
  },
  {
   "cell_type": "code",
   "execution_count": 57,
   "metadata": {},
   "outputs": [
    {
     "data": {
      "text/plain": [
       "Index(['b1c5', 'b1c6', 'b1c7', 'b1c9', 'b1c11', 'b1c14', 'b1c15', 'b1c16',\n",
       "       'b1c17', 'b1c18',\n",
       "       ...\n",
       "       'b3c29', 'b3c30', 'b3c31', 'b3c34', 'b3c35', 'b3c36', 'b3c40', 'b3c41',\n",
       "       'b3c43', 'b3c44'],\n",
       "      dtype='object', length=113)"
      ]
     },
     "execution_count": 57,
     "metadata": {},
     "output_type": "execute_result"
    }
   ],
   "source": [
    "# prune cells with more than 1250 cycle life\n",
    "df = df[df['cycle_life'] <= 1250]\n",
    "df.index"
   ]
  },
  {
   "cell_type": "code",
   "execution_count": 60,
   "metadata": {},
   "outputs": [
    {
     "data": {
      "text/plain": [
       "'b2c1'"
      ]
     },
     "execution_count": 60,
     "metadata": {},
     "output_type": "execute_result"
    }
   ],
   "source": [
    "df['cycle_life'].idxmin()"
   ]
  },
  {
   "cell_type": "code",
   "execution_count": null,
   "metadata": {},
   "outputs": [],
   "source": [
    "# define parameters to be used \n",
    "test_size = 0.2"
   ]
  },
  {
   "cell_type": "code",
   "execution_count": null,
   "metadata": {},
   "outputs": [],
   "source": [
    "estimator = NuSVR()\n",
    "param_grid = {\"nu\": [0.1, 0.3, 0.5, 0.7, 0.9],\n",
    "              \"C\": [0.001, 0.01, 0.1, 1.0],\n",
    "              \"kernel\": [\"linear\", \"poly\", \"rbf\", \"sigmoid\"]}\n",
    "scoring = 'neg_mean_absolute_percentage_error'\n",
    "cv = 3\n",
    "\n",
    "\n",
    "def model_pipeline(df, algo, estimator, param_grid, fname, test_size=0.2, scoring='neg_mean_absolute_percentage_error', cv=3, plot=True, model_type=None):\n",
    "    dict_of_opt_params = {}\n",
    "    metric_list = []\n",
    "\n",
    "    # create a list of k\n",
    "    k_list = [1.0, 0.9, 0.8, 0.6, 0.5, 0.4, 0.3, 0.2]\n",
    "\n",
    "    for k in k_list:\n",
    "\n",
    "        # search for the best hyper-parameters\n",
    "        best_param, _ = utils_models.hyperparameter_tuning(df=df,\n",
    "                                                            estimator=estimator,\n",
    "                                                            param_grid=param_grid,\n",
    "                                                            scoring=scoring,\n",
    "                                                            cv=cv,\n",
    "                                                            feature_selection=True,\n",
    "                                                            k=k)\n",
    "\n",
    "        # store the best parameters in the dictionary\n",
    "        dict_of_opt_params[k] = best_param\n",
    "\n",
    "        # use the best parameters to build model \n",
    "        if model_type is None:\n",
    "            model, metrics = algo(df=df,\n",
    "                                test_size=test_size,\n",
    "                                feature_selection=True,\n",
    "                                scaling=False,\n",
    "                                params=best_param,\n",
    "                                plot=True,\n",
    "                                fname=fname+str(int(k*100)),\n",
    "                                k=k)\n",
    "        else:\n",
    "            model, metrics = algo(df=df,\n",
    "                                test_size=test_size,\n",
    "                                feature_selection=True,\n",
    "                                scaling=False,\n",
    "                                params=best_param,\n",
    "                                plot=True,\n",
    "                                fname=fname+str(int(k*100)),\n",
    "                                model_type=model_type,\n",
    "                                k=k)\n",
    "        \n",
    "        metric_list.append(list(metrics[0].values()) + list(metrics[1].values()))\n",
    "\n",
    "    metric_data = pd.DataFrame(data=np.array(metric_list), columns=[data + metric for data in ('Train_', 'Test_') for metric in metrics[0].keys()], index=k_list)\n",
    "    metric_data.index.name = 'Features used (%)'\n",
    "\n",
    "    best_k = metric_data['Test_MAPE'].idxmin()\n",
    "\n",
    "    return best_k, dict_of_opt_params[best_k], metric_data\n",
    "\n"
   ]
  },
  {
   "cell_type": "markdown",
   "metadata": {},
   "source": [
    "### NuSVR without scaling and feature selection"
   ]
  },
  {
   "cell_type": "code",
   "execution_count": null,
   "metadata": {},
   "outputs": [],
   "source": [
    "model, metrics = utils_models.fit_nusvr(df=df,\n",
    "                                        test_size=test_size,\n",
    "                                        feature_selection=False,\n",
    "                                        scaling=False,\n",
    "                                        params=params,\n",
    "                                        plot=True,\n",
    "                                        fname='nusvr_model')"
   ]
  },
  {
   "cell_type": "markdown",
   "metadata": {},
   "source": [
    "### NuSVR with scaling but without feature selection"
   ]
  },
  {
   "cell_type": "code",
   "execution_count": null,
   "metadata": {},
   "outputs": [],
   "source": [
    "model, metrics = utils_models.fit_nusvr(df=df,\n",
    "                                        test_size=test_size,\n",
    "                                        feature_selection=False,\n",
    "                                        scaling=True,\n",
    "                                        params=params,\n",
    "                                        plot=True,\n",
    "                                        fname='nusvr_scaled_model')"
   ]
  },
  {
   "cell_type": "markdown",
   "metadata": {},
   "source": [
    "### NuSVR with feature selection and with/without scaling for $k=0.5, 0.6, 0.7, 0.8, 0.9$"
   ]
  },
  {
   "cell_type": "code",
   "execution_count": null,
   "metadata": {},
   "outputs": [],
   "source": [
    "# create a list of k\n",
    "k_list = [0.9, 0.8, 0.6, 0.5, 0.4, 0.3, 0.2]"
   ]
  },
  {
   "cell_type": "code",
   "execution_count": null,
   "metadata": {},
   "outputs": [],
   "source": [
    "# A function to fit model with several values of k and choosing whether to perform scaling or not\n",
    "def k_effect_on_model(scaling, fname):\n",
    "\n",
    "    metric_list = []\n",
    "\n",
    "    for k in k_list:\n",
    "        print('Fitting model with {} percent of features...'.format(int(k*100)))\n",
    "        model, metrics = utils_models.fit_nusvr(df=df,\n",
    "                                                test_size=test_size,\n",
    "                                                feature_selection=True,\n",
    "                                                scaling=scaling,\n",
    "                                                params=params,\n",
    "                                                plot=True,\n",
    "                                                fname=fname+str(int(k*100)),\n",
    "                                                k=k)\n",
    "\n",
    "        metric_list.append(list(metrics[0].values()) + list(metrics[1].values()))\n",
    "\n",
    "    metric_data = pd.DataFrame(data=np.array(metric_list), columns=[data + metric for data in ('Train_', 'Test_') for metric in metrics[0].keys()], index=np.array(k_list)*100)\n",
    "    metric_data.index.name = 'Features used (%)'\n",
    "    \n",
    "    return metric_data"
   ]
  },
  {
   "cell_type": "code",
   "execution_count": null,
   "metadata": {},
   "outputs": [],
   "source": [
    "# without scaling \n",
    "k_effect_on_model(scaling=False, fname='nusvr_model_ftselection_k_')"
   ]
  },
  {
   "cell_type": "code",
   "execution_count": null,
   "metadata": {},
   "outputs": [],
   "source": [
    "# without scaling \n",
    "k_effect_on_model(scaling=True, fname='nusvr_model_ftselection_scaled_k_')"
   ]
  },
  {
   "cell_type": "markdown",
   "metadata": {},
   "source": [
    "### Perform $k$-Fold Repeated Cross-validation on the model with feature selection and best MAPE"
   ]
  },
  {
   "cell_type": "code",
   "execution_count": null,
   "metadata": {},
   "outputs": [],
   "source": [
    "model = NuSVR(**params)\n",
    "best_model_cross_val_scores = utils_models.repeated_kfold_cross_validation(model=model,\n",
    "                                                                           df=df,\n",
    "                                                                           n_splits=3,\n",
    "                                                                           n_repeats=3,\n",
    "                                                                           feature_selection=True,\n",
    "                                                                           scaling=False,\n",
    "                                                                           k=0.3)\n",
    "\n",
    "best_model_cross_val_scores"
   ]
  },
  {
   "cell_type": "markdown",
   "metadata": {},
   "source": [
    "### Hyper-parameter tuning"
   ]
  },
  {
   "cell_type": "code",
   "execution_count": null,
   "metadata": {},
   "outputs": [],
   "source": [
    "estimator = NuSVR()\n",
    "param_grid = {\"nu\": [0.1, 0.3, 0.5, 0.7, 0.9],\n",
    "              \"C\": [0.001, 0.01, 0.1, 1.0],\n",
    "              \"kernel\": [\"linear\", \"poly\", \"rbf\", \"sigmoid\"]}\n",
    "scoring = 'neg_mean_absolute_percentage_error'\n",
    "cv = 3\n",
    "\n",
    "# for the model without feature selection\n",
    "best_param_all, _ = utils_models.hyperparameter_tuning(df, estimator, param_grid, scoring, cv, feature_selection=False, k=None)\n",
    "print(best_param_all)"
   ]
  },
  {
   "cell_type": "code",
   "execution_count": null,
   "metadata": {},
   "outputs": [],
   "source": [
    "# for the model with feature selection\n",
    "best_param_selected, _ = utils_models.hyperparameter_tuning(df, estimator, param_grid, scoring, cv, feature_selection=True, k=0.3)\n",
    "print(best_param_selected)"
   ]
  },
  {
   "cell_type": "markdown",
   "metadata": {},
   "source": [
    "### Use the best hyper-parameter to rebuild the models and carry out repeated $k$-fold cross-validation"
   ]
  },
  {
   "cell_type": "code",
   "execution_count": null,
   "metadata": {},
   "outputs": [],
   "source": []
  },
  {
   "cell_type": "code",
   "execution_count": null,
   "metadata": {},
   "outputs": [],
   "source": [
    "# for the model using all the features \n",
    "best_model_all, metrics_all = utils_models.fit_nusvr(df=df,\n",
    "                                                    test_size=test_size,\n",
    "                                                    feature_selection=False,\n",
    "                                                    scaling=False,\n",
    "                                                    params=best_param_all,\n",
    "                                                    plot=True,\n",
    "                                                    fname='best_all_features_nusvr_model')"
   ]
  },
  {
   "cell_type": "code",
   "execution_count": null,
   "metadata": {},
   "outputs": [],
   "source": [
    "# for the model using selected features \n",
    "best_model_selected, metrics_selected = utils_models.fit_nusvr(df=df,\n",
    "                                                               test_size=test_size,\n",
    "                                                               feature_selection=True,\n",
    "                                                               scaling=False,\n",
    "                                                               params=best_param_selected,\n",
    "                                                               plot=True,\n",
    "                                                               fname='best_selected_features_nusvr_model',\n",
    "                                                               k=0.3)"
   ]
  },
  {
   "cell_type": "code",
   "execution_count": null,
   "metadata": {},
   "outputs": [],
   "source": [
    "# Repeated k-fold cross-validation for the model obtained from grid search and using all features\n",
    "model = NuSVR(**best_param_all)\n",
    "utils_models.repeated_kfold_cross_validation(model=model,\n",
    "                                            df=df,\n",
    "                                            n_splits=3,\n",
    "                                            n_repeats=3,\n",
    "                                            feature_selection=False,\n",
    "                                            scaling=False)\n",
    "\n"
   ]
  },
  {
   "cell_type": "code",
   "execution_count": null,
   "metadata": {},
   "outputs": [],
   "source": [
    "# Repeated k-fold cross-validation for the model obtained from grid search and using selected features\n",
    "model = NuSVR(**best_param_selected)\n",
    "utils_models.repeated_kfold_cross_validation(model=model,\n",
    "                                            df=df,\n",
    "                                            n_splits=3,\n",
    "                                            n_repeats=3,\n",
    "                                            feature_selection=True,\n",
    "                                            scaling=False,\n",
    "                                            k=0.3)\n",
    "\n"
   ]
  },
  {
   "cell_type": "code",
   "execution_count": null,
   "metadata": {},
   "outputs": [],
   "source": []
  }
 ],
 "metadata": {
  "interpreter": {
   "hash": "31f2aee4e71d21fbe5cf8b01ff0e069b9275f58929596ceb00d14d90e3e16cd6"
  },
  "kernelspec": {
   "display_name": "Python 3.8.10 64-bit",
   "language": "python",
   "name": "python3"
  },
  "language_info": {
   "codemirror_mode": {
    "name": "ipython",
    "version": 3
   },
   "file_extension": ".py",
   "mimetype": "text/x-python",
   "name": "python",
   "nbconvert_exporter": "python",
   "pygments_lexer": "ipython3",
   "version": "3.8.10"
  },
  "orig_nbformat": 4
 },
 "nbformat": 4,
 "nbformat_minor": 2
}
