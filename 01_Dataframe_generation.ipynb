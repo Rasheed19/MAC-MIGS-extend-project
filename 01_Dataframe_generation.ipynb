{
 "cells": [
  {
   "cell_type": "code",
   "execution_count": 1,
   "metadata": {},
   "outputs": [
    {
     "data": {
      "text/plain": [
       "<module 'utils.utils_noah' from '/home/s2228293/Documents/MACMIGS-Year1/Semester2/Extended_Project/MAC-MIGS-extended-project/utils/utils_noah.py'>"
      ]
     },
     "execution_count": 1,
     "metadata": {},
     "output_type": "execute_result"
    }
   ],
   "source": [
    "from utils import utils_models, utils_gn, utils_sevsn, utils_noah\n",
    "import importlib\n",
    "importlib.reload(utils_models)\n",
    "importlib.reload(utils_gn)\n",
    "importlib.reload(utils_noah)"
   ]
  },
  {
   "cell_type": "code",
   "execution_count": 2,
   "metadata": {},
   "outputs": [],
   "source": [
    "# Generate dataframes for the Severson et. al features\n",
    "fnames = ['batch1_100cycles.pkl', 'batch2_100cycles.pkl', 'batch3_100cycles.pkl', 'data_100cycles.pkl']\n",
    "dfnames = ['severson_batch1.pkl', 'severson_batch2.pkl', 'severson_batch3.pkl', 'severson_all.pkl']\n",
    "\n",
    "for fname, dfname in zip(fnames, dfnames):\n",
    "    batch_data = utils_gn.read_data(fname)\n",
    "    utils_sevsn.generate_severson_features(batch_data, dfname)"
   ]
  },
  {
   "cell_type": "code",
   "execution_count": 3,
   "metadata": {},
   "outputs": [
    {
     "name": "stderr",
     "output_type": "stream",
     "text": [
      "/home/s2228293/Documents/MACMIGS-Year1/Semester2/Extended_Project/MAC-MIGS-extended-project/utils/utils_noah.py:348: RuntimeWarning: divide by zero encountered in double_scalars\n",
      "  Inorm_ch_for_each_cycle.append(np.median(abs(generate_ch_di_values(data_dict, 'I', cell, cycle, 'ch'))) / np.median(abs(data_dict[cell]['cycle_dict'][cycle]['I'])))\n",
      "/home/s2228293/Documents/MACMIGS-Year1/Semester2/Extended_Project/MAC-MIGS-extended-project/utils/utils_noah.py:349: RuntimeWarning: invalid value encountered in double_scalars\n",
      "  Inorm_di_for_each_cycle.append(np.median(abs(generate_ch_di_values(data_dict, 'I', cell, cycle, 'di'))) / np.median(abs(data_dict[cell]['cycle_dict'][cycle]['I'])))\n"
     ]
    }
   ],
   "source": [
    "# Generate dataframes for the Noah et. al features \n",
    "dfnames = ['noah_batch1.pkl', 'noah_batch2.pkl', 'noah_batch3.pkl', 'noah_all.pkl']\n",
    "\n",
    "\n",
    "for fname, dfname in zip(fnames, dfnames):\n",
    "    batch_data = utils_gn.read_data(fname)\n",
    "    utils_noah.getNoahData(batch_data, dfname)"
   ]
  },
  {
   "cell_type": "code",
   "execution_count": null,
   "metadata": {},
   "outputs": [],
   "source": []
  }
 ],
 "metadata": {
  "interpreter": {
   "hash": "31f2aee4e71d21fbe5cf8b01ff0e069b9275f58929596ceb00d14d90e3e16cd6"
  },
  "kernelspec": {
   "display_name": "Python 3.8.10 64-bit",
   "language": "python",
   "name": "python3"
  },
  "language_info": {
   "codemirror_mode": {
    "name": "ipython",
    "version": 3
   },
   "file_extension": ".py",
   "mimetype": "text/x-python",
   "name": "python",
   "nbconvert_exporter": "python",
   "pygments_lexer": "ipython3",
   "version": "3.8.10"
  },
  "orig_nbformat": 4
 },
 "nbformat": 4,
 "nbformat_minor": 2
}
